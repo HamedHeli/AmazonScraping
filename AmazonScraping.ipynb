{
 "cells": [
  {
   "cell_type": "markdown",
   "id": "61a4d4a4",
   "metadata": {},
   "source": [
    "# Connection"
   ]
  },
  {
   "cell_type": "code",
   "execution_count": 47,
   "id": "d9f9c77b",
   "metadata": {},
   "outputs": [
    {
     "name": "stderr",
     "output_type": "stream",
     "text": [
      "\n",
      "\n",
      "====== WebDriver manager ======\n",
      "Current google-chrome version is 95.0.4638\n",
      "Get LATEST chromedriver version for 95.0.4638 google-chrome\n",
      "Driver [C:\\Users\\hamed\\.wdm\\drivers\\chromedriver\\win32\\95.0.4638.54\\chromedriver.exe] found in cache\n"
     ]
    }
   ],
   "source": [
    "import csv\n",
    "import numpy as np\n",
    "import pandas as pd\n",
    "from bs4 import BeautifulSoup\n",
    "from selenium import webdriver\n",
    "from selenium import webdriver\n",
    "from webdriver_manager.chrome import ChromeDriverManager\n",
    "\n",
    "def get_url (search_term,page_num):\n",
    "    S= list(search_term.lower().split())\n",
    "    seaterm=S[0]\n",
    "    for i in S[1:]:\n",
    "        seaterm=seaterm+'+'+i\n",
    "    return 'https://www.amazon.ca/s?k={}&page={}&crid=2ODRV04KOTK3K&sprefix={}%2Caps%2C148&ref=nb_sb_noss'.format(seaterm,page_num,\n",
    "                                                                                                                  seaterm)\n",
    "\n",
    "\n",
    "\n",
    "driver = webdriver.Chrome(ChromeDriverManager().install())\n",
    "\n",
    "\n",
    "\n",
    "def amazon_scraping2 (search_term):\n",
    "    \n",
    "    title = []\n",
    "    price = []\n",
    "    review = []\n",
    "    item = []\n",
    "    m=0\n",
    "    \n",
    "    for j in range (0,7):\n",
    "        \n",
    "        url = get_url(search_term,j+1)\n",
    "        driver.get(url)    \n",
    "        soup = BeautifulSoup (driver.page_source,'html.parser')\n",
    "\n",
    "        for i in range(0,200):\n",
    "            try:\n",
    "                \n",
    "                results2 = soup.find_all('span',{'cel_widget_id':'MAIN-SEARCH_RESULTS-{}'.format(i)})\n",
    "\n",
    "                title.append(results2[0].find('h2').text)\n",
    "                \n",
    "                try:\n",
    "                    price.append(results2[0].find('span',{'class':'a-price', 'data-a-color':'base'}).text.split('$')[-1])\n",
    "                    \n",
    "                except AttributeError:\n",
    "                    price.append('')\n",
    "                try:\n",
    "                    review.append (results2[0].find('i','a-icon-star-small').text)\n",
    "                    \n",
    "                except AttributeError:\n",
    "                    review.append('')\n",
    "\n",
    "            except IndexError: \n",
    "                m+=1\n",
    "                \n",
    "            \n",
    "        intermediate_dictionary = {'Title':title[0:len(review)], 'Price':price[0:len(review)], 'Review':review[0:len(review)]}\n",
    "        Hamed=pd.DataFrame(intermediate_dictionary)\n",
    "        #print(Hamed)\n",
    "    Hamed.to_csv('Hamed.csv')\n",
    "\n",
    "\n",
    "    return\n",
    "\n",
    "\n",
    "amazon_scraping2('music box')"
   ]
  },
  {
   "cell_type": "code",
   "execution_count": null,
   "id": "4ced2760",
   "metadata": {},
   "outputs": [],
   "source": []
  }
 ],
 "metadata": {
  "kernelspec": {
   "display_name": "Python 3",
   "language": "python",
   "name": "python3"
  },
  "language_info": {
   "codemirror_mode": {
    "name": "ipython",
    "version": 3
   },
   "file_extension": ".py",
   "mimetype": "text/x-python",
   "name": "python",
   "nbconvert_exporter": "python",
   "pygments_lexer": "ipython3",
   "version": "3.8.8"
  }
 },
 "nbformat": 4,
 "nbformat_minor": 5
}
