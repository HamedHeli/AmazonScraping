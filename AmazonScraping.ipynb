{
 "cells": [
  {
   "cell_type": "markdown",
   "id": "61a4d4a4",
   "metadata": {},
   "source": [
    "# Connection"
   ]
  },
  {
   "cell_type": "code",
   "execution_count": 52,
   "id": "d9f9c77b",
   "metadata": {
    "scrolled": true
   },
   "outputs": [
    {
     "name": "stderr",
     "output_type": "stream",
     "text": [
      "\n",
      "\n",
      "====== WebDriver manager ======\n",
      "Current google-chrome version is 95.0.4638\n",
      "Get LATEST chromedriver version for 95.0.4638 google-chrome\n",
      "Driver [C:\\Users\\hamed\\.wdm\\drivers\\chromedriver\\win32\\95.0.4638.54\\chromedriver.exe] found in cache\n"
     ]
    }
   ],
   "source": [
    "import csv\n",
    "import requests\n",
    "import numpy as np\n",
    "import pandas as pd\n",
    "from bs4 import BeautifulSoup\n",
    "from selenium import webdriver\n",
    "from selenium import webdriver\n",
    "from webdriver_manager.chrome import ChromeDriverManager\n",
    "\n",
    "def get_url (search_term,page_num):\n",
    "    S= list(search_term.lower().split())\n",
    "    seaterm=S[0]\n",
    "    for i in S[1:]:\n",
    "        seaterm=seaterm+'+'+i\n",
    "    return 'https://www.amazon.ca/s?k={}&page={}&crid=2ODRV04KOTK3K&sprefix={}%2Caps%2C148&ref=nb_sb_noss'.format(seaterm,page_num,\n",
    "                                                                                                                  seaterm)\n",
    "\n",
    "\n",
    "\n",
    "driver = webdriver.Chrome(ChromeDriverManager().install())\n",
    "\n",
    "\n",
    "\n",
    "def amazon_scraping2 (search_term):\n",
    "    \n",
    "    title = []\n",
    "    price = []\n",
    "    review = []\n",
    "    item = []\n",
    "    url = []\n",
    "    num_of_review=[]\n",
    "    m=0\n",
    "    \n",
    "    for j in range (0,1):\n",
    "        \n",
    "        url_search = get_url(search_term,j+1)\n",
    "        driver.get(url_search)    \n",
    "        soup = BeautifulSoup (driver.page_source,'html.parser')\n",
    "\n",
    "        for i in range(0,200):\n",
    "            try:\n",
    "                \n",
    "                results2 = soup.find_all('span',{'cel_widget_id':'MAIN-SEARCH_RESULTS-{}'.format(i)})\n",
    "                if not results2:\n",
    "                    results2 = soup.find_all('div',{'cel_widget_id':'MAIN-SEARCH_RESULTS-{}'.format(i)})\n",
    "\n",
    "                title.append(results2[0].find('h2').text)\n",
    "                url.append('https://www.amazon.ca'+results2[0].h2.a.get('href'))\n",
    "                \n",
    "                try:\n",
    "                    price.append(results2[0].find('span',{'class':'a-price', 'data-a-color':'base'}).text.split('$')[-1])\n",
    "                    \n",
    "                except AttributeError:\n",
    "                    price.append('')\n",
    "                try:\n",
    "                    review.append (results2[0].find('i','a-icon-star-small').text)\n",
    "                    num_of_review.append ((results2[0].find_all('span',{'class':'a-size-base'})[1].text.replace(',','')))\n",
    "                    \n",
    "                except AttributeError:\n",
    "                    review.append('')\n",
    "                    num_of_review.append('')\n",
    "\n",
    "            except IndexError: \n",
    "                m+=1\n",
    "                \n",
    "            \n",
    "        intermediate_dictionary = {'Title':title[0:len(review)], 'Price':price[0:len(review)], \n",
    "                                   'NumberReview': num_of_review [0:len(review)],'Review':review[0:len(review)], 'url':url[0:len(review)]}\n",
    "                                                                                                            \n",
    "        Hamed=pd.DataFrame(intermediate_dictionary)\n",
    "       # print(Hamed)\n",
    "    Hamed.to_csv('Hamed.csv')\n",
    "\n",
    "\n",
    "    return\n",
    "\n",
    "\n",
    "amazon_scraping2('Diaper')"
   ]
  },
  {
   "cell_type": "code",
   "execution_count": 48,
   "id": "cc526420",
   "metadata": {},
   "outputs": [
    {
     "data": {
      "text/plain": [
       "1457"
      ]
     },
     "execution_count": 48,
     "metadata": {},
     "output_type": "execute_result"
    }
   ],
   "source": [
    "int(results2[0].find_all('span',{'class':'a-size-base'})[1].text.replace(',',''))"
   ]
  },
  {
   "cell_type": "code",
   "execution_count": 47,
   "id": "367ff8e5",
   "metadata": {},
   "outputs": [
    {
     "ename": "ValueError",
     "evalue": "invalid literal for int() with base 10: '1,457'",
     "output_type": "error",
     "traceback": [
      "\u001b[1;31m---------------------------------------------------------------------------\u001b[0m",
      "\u001b[1;31mValueError\u001b[0m                                Traceback (most recent call last)",
      "\u001b[1;32m<ipython-input-47-452f5d20b87c>\u001b[0m in \u001b[0;36m<module>\u001b[1;34m\u001b[0m\n\u001b[1;32m----> 1\u001b[1;33m \u001b[0mint\u001b[0m\u001b[1;33m(\u001b[0m\u001b[1;34m'1,457'\u001b[0m\u001b[1;33m)\u001b[0m\u001b[1;33m\u001b[0m\u001b[1;33m\u001b[0m\u001b[0m\n\u001b[0m",
      "\u001b[1;31mValueError\u001b[0m: invalid literal for int() with base 10: '1,457'"
     ]
    }
   ],
   "source": [
    "int('1,457')"
   ]
  },
  {
   "cell_type": "code",
   "execution_count": null,
   "id": "07f076db",
   "metadata": {},
   "outputs": [],
   "source": []
  }
 ],
 "metadata": {
  "kernelspec": {
   "display_name": "Python 3",
   "language": "python",
   "name": "python3"
  },
  "language_info": {
   "codemirror_mode": {
    "name": "ipython",
    "version": 3
   },
   "file_extension": ".py",
   "mimetype": "text/x-python",
   "name": "python",
   "nbconvert_exporter": "python",
   "pygments_lexer": "ipython3",
   "version": "3.8.8"
  }
 },
 "nbformat": 4,
 "nbformat_minor": 5
}
