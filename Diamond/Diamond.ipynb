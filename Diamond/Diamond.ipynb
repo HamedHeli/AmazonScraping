{
 "cells": [
  {
   "cell_type": "markdown",
   "id": "b2be78a2",
   "metadata": {},
   "source": [
    "### Predicting Diamond's Price\n",
    "\n",
    "In this project, I try to make a linear model for predicting the diamond's price based on its carate, clarity, color, and cut. The data include more than 50,000 rows of data including the prices of diamonds with different color, clarity, cut, and carate and I split the model to include both training and testing population. Based on training population, I make a model and then test the model based on the testing population. Finally, I compare two regression models  "
   ]
  },
  {
   "cell_type": "code",
   "execution_count": 232,
   "id": "2b985f1b",
   "metadata": {},
   "outputs": [],
   "source": [
    "import pandas as pd\n",
    "import sklearn\n",
    "from sklearn import svm\n",
    "from sklearn import preprocessing\n",
    "import numpy as np\n",
    "import seaborn as sns\n",
    "import matplotlib.pyplot as plt\n",
    "import os \n"
   ]
  },
  {
   "cell_type": "code",
   "execution_count": 231,
   "id": "1baa618e",
   "metadata": {},
   "outputs": [],
   "source": [
    "# data are provided from https://www.kaggle.com/shivam2503/diamonds\n",
    "cwd = os.getcwd()\n",
    "dia = pd.read_csv(cwd + '\\diamonds.csv', index_col = 0)\n",
    "\n",
    "cut_dict = {\"Fair\": 1, \"Good\": 2, \"Very Good\": 3, \"Premium\": 4, \"Ideal\": 5}\n",
    "clarity_dict = {\"I3\": 1, \"I2\": 2, \"I1\": 3, \"SI2\": 4, \"SI1\": 5, \"VS2\": 6, \"VS1\": 7, \"VVS2\": 8, \"VVS1\": 9, \"IF\": 10, \"FL\": 11}\n",
    "color_dict = {\"J\": 1,\"I\": 2,\"H\": 3,\"G\": 4,\"F\": 5,\"E\": 6,\"D\": 7}\n",
    "\n",
    "dia ['color']= dia ['color'].map (color_dic)\n",
    "dia ['clarity']= dia ['clarity'].map (clarity_dic)\n",
    "dia ['cut']= dia ['cut'].map (cut_dic)\n",
    "\n",
    "dia.dropna(inplace = True)"
   ]
  },
  {
   "cell_type": "code",
   "execution_count": 185,
   "id": "461c6028",
   "metadata": {},
   "outputs": [],
   "source": [
    "dia = sklearn.utils.shuffle(dia)\n",
    "\n",
    "X = dia.drop('price',axis = 1).values\n",
    "y = dia['price'].values"
   ]
  },
  {
   "cell_type": "code",
   "execution_count": 186,
   "id": "26ec37bd",
   "metadata": {},
   "outputs": [],
   "source": [
    "total_size = dia['price'].count()"
   ]
  },
  {
   "cell_type": "code",
   "execution_count": 187,
   "id": "6e68ff81",
   "metadata": {},
   "outputs": [],
   "source": [
    "test_size = round (0.005 * total_size)"
   ]
  },
  {
   "cell_type": "code",
   "execution_count": 188,
   "id": "3b8b01f0",
   "metadata": {},
   "outputs": [
    {
     "data": {
      "text/plain": [
       "SVR(kernel='linear')"
      ]
     },
     "execution_count": 188,
     "metadata": {},
     "output_type": "execute_result"
    }
   ],
   "source": [
    "X_train = X[:-test_size]\n",
    "y_train = y[:-test_size]\n",
    "\n",
    "X_test = X[-test_size:]\n",
    "y_test = y[-test_size:]\n",
    "\n",
    "clf = svm.SVR(kernel = 'linear')\n",
    "clf.fit(X_train,y_train)"
   ]
  },
  {
   "cell_type": "code",
   "execution_count": 137,
   "id": "198a3315",
   "metadata": {},
   "outputs": [
    {
     "data": {
      "text/plain": [
       "0.8409318432711637"
      ]
     },
     "execution_count": 137,
     "metadata": {},
     "output_type": "execute_result"
    }
   ],
   "source": [
    "clf.score (X_test,y_test)"
   ]
  },
  {
   "cell_type": "code",
   "execution_count": 207,
   "id": "84809e2f",
   "metadata": {},
   "outputs": [
    {
     "name": "stderr",
     "output_type": "stream",
     "text": [
      "C:\\Users\\hamed\\anaconda3\\lib\\site-packages\\seaborn\\_decorators.py:36: FutureWarning: Pass the following variables as keyword args: x, y. From version 0.12, the only valid positional argument will be `data`, and passing other arguments without an explicit keyword will result in an error or misinterpretation.\n",
      "  warnings.warn(\n",
      "C:\\Users\\hamed\\anaconda3\\lib\\site-packages\\seaborn\\_decorators.py:36: FutureWarning: Pass the following variables as keyword args: x, y. From version 0.12, the only valid positional argument will be `data`, and passing other arguments without an explicit keyword will result in an error or misinterpretation.\n",
      "  warnings.warn(\n"
     ]
    },
    {
     "data": {
      "text/plain": [
       "(-1119.6362935269844, 18276.0)"
      ]
     },
     "execution_count": 207,
     "metadata": {},
     "output_type": "execute_result"
    },
    {
     "data": {
      "image/png": "[encoded data removed]",
      "text/plain": [
       "<Figure size 360x360 with 1 Axes>"
      ]
     },
     "metadata": {
      "needs_background": "light"
     },
     "output_type": "display_data"
    }
   ],
   "source": [
    "fig, ax = plt.subplots(figsize = (5,5), constrained_layout=True)\n",
    "y_predict = []\n",
    "for X, y in zip (X_test , y_test):\n",
    "    y_predict.append(clf.predict ([X])[0])\n",
    "sns.scatterplot(y_predict, y_test, ax = ax)\n",
    "sns.lineplot([min(y_predict), max(y_test)],[min(y_predict), max(y_test)],ax=ax, linewidth = 4,color = '#d58234')\n",
    "ax.set_xlim([min(y_predict), max(y_test)])\n",
    "ax.set_ylim([min(y_predict), max(y_test)])\n",
    "\n",
    "# it seems that the prediction is not appropriate for very cheap or very expensive dimanonds "
   ]
  },
  {
   "cell_type": "markdown",
   "id": "59d8a878",
   "metadata": {},
   "source": [
    "Model seems to have a better accuracy for diamonds in mid-range price but the accuracy for cheap and expensive diamonds is compromised. \n",
    "Now, let's compare this with Ensemble methods:"
   ]
  },
  {
   "cell_type": "code",
   "execution_count": 234,
   "id": "c65ef22c",
   "metadata": {},
   "outputs": [
    {
     "data": {
      "text/plain": [
       "SVR()"
      ]
     },
     "execution_count": 234,
     "metadata": {},
     "output_type": "execute_result"
    }
   ],
   "source": [
    "clf_rbf = svm.SVR(kernel = 'rbf')\n",
    "clf_rbf.fit(X_train,y_train)"
   ]
  },
  {
   "cell_type": "code",
   "execution_count": 235,
   "id": "f83b0adf",
   "metadata": {},
   "outputs": [
    {
     "name": "stderr",
     "output_type": "stream",
     "text": [
      "C:\\Users\\hamed\\anaconda3\\lib\\site-packages\\seaborn\\_decorators.py:36: FutureWarning: Pass the following variables as keyword args: x, y. From version 0.12, the only valid positional argument will be `data`, and passing other arguments without an explicit keyword will result in an error or misinterpretation.\n",
      "  warnings.warn(\n",
      "C:\\Users\\hamed\\anaconda3\\lib\\site-packages\\seaborn\\_decorators.py:36: FutureWarning: Pass the following variables as keyword args: x, y. From version 0.12, the only valid positional argument will be `data`, and passing other arguments without an explicit keyword will result in an error or misinterpretation.\n",
      "  warnings.warn(\n"
     ]
    },
    {
     "data": {
      "text/plain": [
       "(2355.2384305297005, 18276.0)"
      ]
     },
     "execution_count": 235,
     "metadata": {},
     "output_type": "execute_result"
    },
    {
     "data": {
      "image/png": "[encoded data removed]",
      "text/plain": [
       "<Figure size 360x360 with 1 Axes>"
      ]
     },
     "metadata": {
      "needs_background": "light"
     },
     "output_type": "display_data"
    }
   ],
   "source": [
    "fig, ax = plt.subplots(figsize = (5,5), constrained_layout=True)\n",
    "y_predict = []\n",
    "for X, y in zip (X_test , y_test):\n",
    "    y_predict.append(clf_rbf.predict ([X])[0])\n",
    "sns.scatterplot(y_predict, y_test, ax = ax)\n",
    "sns.lineplot([min(y_predict), max(y_test)],[min(y_predict), max(y_test)],ax=ax, linewidth = 4,color = '#d58234')\n",
    "ax.set_xlim([min(y_predict), max(y_test)])\n",
    "ax.set_ylim([min(y_predict), max(y_test)])"
   ]
  },
  {
   "cell_type": "code",
   "execution_count": 236,
   "id": "1c3ddd77",
   "metadata": {},
   "outputs": [
    {
     "data": {
      "text/plain": [
       "-0.012982655947288979"
      ]
     },
     "execution_count": 236,
     "metadata": {},
     "output_type": "execute_result"
    }
   ],
   "source": [
    "clf_rbf.score (X_test,y_test)"
   ]
  },
  {
   "cell_type": "markdown",
   "id": "0c968006",
   "metadata": {},
   "source": [
    "Therefore, a linear method provides a better estimations than ensemble menthods. "
   ]
  }
 ],
 "metadata": {
  "kernelspec": {
   "display_name": "Python 3 (ipykernel)",
   "language": "python",
   "name": "python3"
  },
  "language_info": {
   "codemirror_mode": {
    "name": "ipython",
    "version": 3
   },
   "file_extension": ".py",
   "mimetype": "text/x-python",
   "name": "python",
   "nbconvert_exporter": "python",
   "pygments_lexer": "ipython3",
   "version": "3.8.8"
  }
 },
 "nbformat": 4,
 "nbformat_minor": 5
}
